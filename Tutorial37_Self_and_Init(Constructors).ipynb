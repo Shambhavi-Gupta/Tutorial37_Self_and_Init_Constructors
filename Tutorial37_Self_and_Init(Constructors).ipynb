{
  "nbformat": 4,
  "nbformat_minor": 0,
  "metadata": {
    "colab": {
      "name": "Tutorial37_Self_and_Init(Constructors).ipynb",
      "provenance": [],
      "authorship_tag": "ABX9TyMdQSUzgCETvTLiL0F8V8vD",
      "include_colab_link": true
    },
    "kernelspec": {
      "name": "python3",
      "display_name": "Python 3"
    }
  },
  "cells": [
    {
      "cell_type": "markdown",
      "metadata": {
        "id": "view-in-github",
        "colab_type": "text"
      },
      "source": [
        "<a href=\"https://colab.research.google.com/github/Shambhavi-Gupta/Tutorial37_Self_and_Init_Constructors/blob/main/Tutorial37_Self_and_Init(Constructors).ipynb\" target=\"_parent\"><img src=\"https://colab.research.google.com/assets/colab-badge.svg\" alt=\"Open In Colab\"/></a>"
      ]
    },
    {
      "cell_type": "code",
      "metadata": {
        "id": "pxyNk9dunp1H"
      },
      "source": [
        "class Student:\r\n",
        "    no_of_subjects = 5\r\n",
        "    def __init__(self,aname,astandard,asection):\r\n",
        "        self.name = aname\r\n",
        "        self.standard = astandard\r\n",
        "        self.section = asection\r\n",
        "\r\n",
        "#Main key point -> when I run one.details then one turns to be self\r\n",
        "    def details(self):\r\n",
        "        return f\"Name is {self.name}, Standard is {self.standard}\"\r\n",
        "\r\n",
        "one = Student(\"Riya\",10,\"A\") #one and two are instance\r\n",
        "two = Student(\"Seema\",12,\"B\")\r\n",
        "#Giving arguments to a class is called constructors\r\n",
        "# one.name = \"Riya\"\r\n",
        "# one.standard = \"10\"\r\n",
        "# one.section = \"A\"\\\r\n",
        "# #\r\n",
        "# two.name = \"Seema\"\r\n",
        "# two.standard = \"12\"\r\n",
        "# two.section = \"B\"\r\n",
        "\r\n",
        "#print(two.details())\r\n",
        "print(two.name)"
      ],
      "execution_count": null,
      "outputs": []
    }
  ]
}